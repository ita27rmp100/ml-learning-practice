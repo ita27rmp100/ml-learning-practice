{
 "cells": [
  {
   "cell_type": "code",
   "execution_count": 247,
   "id": "372627ba-957f-4eaa-86e5-8c803e158ea2",
   "metadata": {},
   "outputs": [],
   "source": [
    "import numpy as py"
   ]
  },
  {
   "cell_type": "code",
   "execution_count": 252,
   "id": "039b9930-51a7-492e-9a7f-3f62140a292b",
   "metadata": {},
   "outputs": [
    {
     "data": {
      "text/plain": [
       "array([ 0.        ,  0.40816327,  0.81632653,  1.2244898 ,  1.63265306,\n",
       "        2.04081633,  2.44897959,  2.85714286,  3.26530612,  3.67346939,\n",
       "        4.08163265,  4.48979592,  4.89795918,  5.30612245,  5.71428571,\n",
       "        6.12244898,  6.53061224,  6.93877551,  7.34693878,  7.75510204,\n",
       "        8.16326531,  8.57142857,  8.97959184,  9.3877551 ,  9.79591837,\n",
       "       10.20408163, 10.6122449 , 11.02040816, 11.42857143, 11.83673469,\n",
       "       12.24489796, 12.65306122, 13.06122449, 13.46938776, 13.87755102,\n",
       "       14.28571429, 14.69387755, 15.10204082, 15.51020408, 15.91836735,\n",
       "       16.32653061, 16.73469388, 17.14285714, 17.55102041, 17.95918367,\n",
       "       18.36734694, 18.7755102 , 19.18367347, 19.59183673, 20.        ])"
      ]
     },
     "execution_count": 252,
     "metadata": {},
     "output_type": "execute_result"
    }
   ],
   "source": [
    "a = np.linspace(0,20,dtype=float)\n",
    "a"
   ]
  },
  {
   "cell_type": "code",
   "execution_count": 279,
   "id": "7242aee2-8a7f-4aa4-a67a-e1dfb5dbfa1c",
   "metadata": {},
   "outputs": [
    {
     "name": "stdout",
     "output_type": "stream",
     "text": [
      "float64 <class 'numpy.ndarray'> (2, 2, 3) 12 3\n"
     ]
    },
    {
     "data": {
      "text/plain": [
       "array([[[ 1.1,  2.1,  3.1],\n",
       "        [ 4.1,  5.1,  6.1]],\n",
       "\n",
       "       [[ 7.1,  8.1,  9.1],\n",
       "        [10.1, 11.1, 12.1]]])"
      ]
     },
     "execution_count": 279,
     "metadata": {},
     "output_type": "execute_result"
    }
   ],
   "source": [
    "d3 = np.array([\n",
    "    [\n",
    "        [1.1,2.1,3.1],\n",
    "        [4.1,5.1,6.1]\n",
    "    ],\n",
    "    [\n",
    "        [7.1,8.1,9.1],\n",
    "        [10.1,11.1,12.1]\n",
    "    ]\n",
    "])\n",
    "print(d3.dtype,type(d3),d3.shape,d3.size,d3.ndim)\n",
    "d3"
   ]
  },
  {
   "cell_type": "code",
   "execution_count": 280,
   "id": "cc504a0d-c7f4-4389-8c42-d97a63a29e06",
   "metadata": {},
   "outputs": [
    {
     "data": {
      "text/plain": [
       "array([[[[ 1.1,  2.1,  3.1],\n",
       "         [ 4.1,  5.1,  6.1]],\n",
       "\n",
       "        [[ 7.1,  8.1,  9.1],\n",
       "         [10.1, 11.1, 12.1]]]])"
      ]
     },
     "execution_count": 280,
     "metadata": {},
     "output_type": "execute_result"
    }
   ],
   "source": [
    "d3.shape= (1,2,2,3)\n",
    "d3"
   ]
  },
  {
   "cell_type": "code",
   "execution_count": 281,
   "id": "d2ea6c22-bd69-4173-90dd-52e74fecc52a",
   "metadata": {},
   "outputs": [
    {
     "data": {
      "text/plain": [
       "array([[[[ 1,  2,  3],\n",
       "         [ 4,  5,  6]],\n",
       "\n",
       "        [[ 7,  8,  9],\n",
       "         [10, 11, 12]]]])"
      ]
     },
     "execution_count": 281,
     "metadata": {},
     "output_type": "execute_result"
    }
   ],
   "source": [
    "d3 = d3.astype(int)\n",
    "d3"
   ]
  },
  {
   "cell_type": "code",
   "execution_count": 282,
   "id": "a018c1ef-bff9-4c60-b487-50e6ceefd029",
   "metadata": {},
   "outputs": [
    {
     "name": "stdout",
     "output_type": "stream",
     "text": [
      "1\n",
      "2\n",
      "3\n",
      "4\n",
      "5\n",
      "6\n",
      "7\n",
      "8\n",
      "9\n",
      "10\n",
      "11\n",
      "12\n"
     ]
    }
   ],
   "source": [
    "for i in np.nditer(d3) :\n",
    "    print(i)"
   ]
  },
  {
   "cell_type": "code",
   "execution_count": 294,
   "id": "3809ae7b-0916-4001-804c-f1c20b7f1726",
   "metadata": {},
   "outputs": [
    {
     "data": {
      "text/plain": [
       "array([[[ 1,  2],\n",
       "        [ 3,  4],\n",
       "        [ 5,  6]],\n",
       "\n",
       "       [[ 7,  8],\n",
       "        [ 9, 10],\n",
       "        [11, 12]]])"
      ]
     },
     "execution_count": 294,
     "metadata": {},
     "output_type": "execute_result"
    }
   ],
   "source": [
    "d3.shape = (2,3,2)\n",
    "d3"
   ]
  },
  {
   "cell_type": "code",
   "execution_count": 297,
   "id": "ffb80c10-bf6f-469b-9939-881c866b7359",
   "metadata": {},
   "outputs": [
    {
     "data": {
      "text/plain": [
       "np.int64(8)"
      ]
     },
     "execution_count": 297,
     "metadata": {},
     "output_type": "execute_result"
    }
   ],
   "source": [
    "d3[1][0][1]"
   ]
  },
  {
   "cell_type": "code",
   "execution_count": 298,
   "id": "7eafbb9f-776d-41e4-9fe6-e4bcdef267b0",
   "metadata": {},
   "outputs": [
    {
     "data": {
      "text/plain": [
       "array([5, 6])"
      ]
     },
     "execution_count": 298,
     "metadata": {},
     "output_type": "execute_result"
    }
   ],
   "source": [
    "d3[0][2]"
   ]
  },
  {
   "cell_type": "code",
   "execution_count": 299,
   "id": "b77a27bc-83b7-4d6d-9ee1-9e49c3197cf4",
   "metadata": {},
   "outputs": [
    {
     "data": {
      "text/plain": [
       "(array([1]), array([0]), array([1]))"
      ]
     },
     "execution_count": 299,
     "metadata": {},
     "output_type": "execute_result"
    }
   ],
   "source": [
    "np.where(d3==8)"
   ]
  },
  {
   "cell_type": "code",
   "execution_count": 300,
   "id": "69fe9476-8145-4d20-8253-68841f7fdb89",
   "metadata": {},
   "outputs": [],
   "source": [
    "arr1 = np.array([['A', 'B'], ['E', 'F']])\n",
    "arr2 = np.array([['C', 'D'], ['G', 'H']])"
   ]
  },
  {
   "cell_type": "code",
   "execution_count": 303,
   "id": "d1c13f7a-cb36-4c72-b4db-f82448aad37f",
   "metadata": {},
   "outputs": [
    {
     "data": {
      "text/plain": [
       "array([['A', 'B', 'C', 'D'],\n",
       "       ['E', 'F', 'G', 'H']], dtype='<U1')"
      ]
     },
     "execution_count": 303,
     "metadata": {},
     "output_type": "execute_result"
    }
   ],
   "source": [
    "np.hstack((arr1,arr2))"
   ]
  },
  {
   "cell_type": "code",
   "execution_count": 306,
   "id": "eeff8622-e81e-4069-850a-4af0b8b4a288",
   "metadata": {},
   "outputs": [],
   "source": [
    "arr3 = np.stack((arr1,arr2),axis=1)"
   ]
  },
  {
   "cell_type": "code",
   "execution_count": null,
   "id": "4d6b9a61-61af-4f97-b4ca-75ff7f741e86",
   "metadata": {},
   "outputs": [],
   "source": [
    "arr3.split(ar"
   ]
  },
  {
   "cell_type": "code",
   "execution_count": null,
   "id": "7e30db8c-131b-4cc5-a46a-7be00f0fa296",
   "metadata": {},
   "outputs": [],
   "source": []
  }
 ],
 "metadata": {
  "kernelspec": {
   "display_name": "Python 3 (ipykernel)",
   "language": "python",
   "name": "python3"
  },
  "language_info": {
   "codemirror_mode": {
    "name": "ipython",
    "version": 3
   },
   "file_extension": ".py",
   "mimetype": "text/x-python",
   "name": "python",
   "nbconvert_exporter": "python",
   "pygments_lexer": "ipython3",
   "version": "3.13.5"
  }
 },
 "nbformat": 4,
 "nbformat_minor": 5
}
